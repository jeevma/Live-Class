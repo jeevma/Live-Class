{
 "cells": [
  {
   "cell_type": "markdown",
   "id": "77b6b369",
   "metadata": {},
   "source": [
    "# Multi-Agent Systems in ADK\n",
    "\n",
    "**Use Case:** When one agent isn’t enough. Use multiple specialized agents that talk to each other.\n",
    "\n",
    "Google ADK supports **multi-agent conversations** via the `MultiAgent` class.\n",
    "You can define:\n",
    "- A list of `agents`\n",
    "- A `selector` to decide who speaks next\n",
    "- An optional `role_assignment` to change names/roles\n"
   ]
  },
  {
   "cell_type": "markdown",
   "id": "c91b29c5",
   "metadata": {},
   "source": [
    "### How MultiAgent works\n",
    "\n",
    "```mermaid\n",
    "flowchart TD\n",
    "  U[User Message] --> R(Runner)\n",
    "  R --> MA[MultiAgent]\n",
    "  MA -->|selects| A1[Agent 1]\n",
    "  MA --> A2[Agent 2]\n",
    "  A1 --> MA\n",
    "  A2 --> MA\n",
    "  MA --> R --> U\n",
    "```\n",
    "\n",
    "- All agents share one session and state.\n",
    "- The `selector` decides which agent speaks at each step.\n",
    "- The conversation continues until one agent returns `is_final_response()`."
   ]
  },
  {
   "cell_type": "markdown",
   "id": "22569c9e",
   "metadata": {},
   "source": [
    "### Roles: name override\n",
    "You can assign display roles to agents like `\"Researcher\"`, `\"Critic\"`, etc.\n",
    "\n",
    "```python\n",
    "role_assignment = {\n",
    "  agent1.name: \"Researcher\",\n",
    "  agent2.name: \"Summarizer\"\n",
    "}\n",
    "```"
   ]
  },
  {
   "cell_type": "markdown",
   "id": "120b1c5d",
   "metadata": {},
   "source": [
    "### Selector types\n",
    "- `RoundRobinSelector` → simple back-and-forth\n",
    "- `ContentBasedSelector` → uses LLM to choose next agent\n",
    "- `MaxTurnsSelector(N)` → ends after N total turns\n",
    "\n",
    "These selectors are in `google.adk.selectors`."
   ]
  },
  {
   "cell_type": "markdown",
   "id": "c1627e2a",
   "metadata": {},
   "source": [
    "### Example: Research + Summary\n",
    "Agent 1: Finds facts.  \n",
    "Agent 2: Summarizes those facts into a short answer.\n",
    "\n",
    "**Goal:** Show collaboration using `RoundRobinSelector`."
   ]
  },
  {
   "cell_type": "code",
   "execution_count": null,
   "id": "d1c328df",
   "metadata": {
    "tags": [
     "multiagent"
    ]
   },
   "outputs": [],
   "source": [
    "from google.adk.agents import LlmAgent, MultiAgent\n",
    "from google.adk.selectors import RoundRobinSelector\n",
    "from google.adk.runners import Runner\n",
    "from google.adk.sessions import InMemorySessionService\n",
    "from google.genai.types import Content, Part\n",
    "\n",
    "agent1 = LlmAgent(\n",
    "    model=\"gemini-2.5-flash\",\n",
    "    name=\"fact_agent\",\n",
    "    instruction=\"List 3 quick facts about the topic.\"\n",
    ")\n",
    "\n",
    "agent2 = LlmAgent(\n",
    "    model=\"gemini-2.5-flash\",\n",
    "    name=\"summary_agent\",\n",
    "    instruction=\"Summarize the above facts in 1 short paragraph.\"\n",
    ")\n",
    "\n",
    "multi = MultiAgent(\n",
    "    agents=[agent1, agent2],\n",
    "    selector=RoundRobinSelector(),\n",
    "    role_assignment={\n",
    "        \"fact_agent\": \"Researcher\",\n",
    "        \"summary_agent\": \"Summarizer\"\n",
    "    }\n",
    ")\n",
    "\n",
    "session_service = InMemorySessionService()\n",
    "session_service.create_session(\"multiapp\", \"u1\", \"s1\")\n",
    "\n",
    "runner = Runner(agent=multi, app_name=\"multiapp\", session_service=session_service)\n",
    "prompt = Content(role=\"user\", parts=[Part(text=\"Tell me about electric cars\")])\n",
    "\n",
    "for e in runner.run(\"u1\", \"s1\", new_message=prompt):\n",
    "    if e.is_final_response():\n",
    "        print(\"\\nFinal Answer:\\n\", e.content.parts[0].text)"
   ]
  },
  {
   "cell_type": "markdown",
   "id": "96ba9eea",
   "metadata": {},
   "source": [
    "### Notes\n",
    "- Use **shared state** to pass info between agents (`output_key`, `state_delta`)\n",
    "- `MultiAgent` can run **any ADK agents**: LLM agents, tool agents, etc.\n",
    "- Keep roles + selectors simple for now. Add tools only once this flow works."
   ]
  },
  {
   "cell_type": "markdown",
   "id": "1962a049",
   "metadata": {},
   "source": [
    "### Selector with max turns\n",
    "```python\n",
    "from google.adk.selectors import MaxTurnsSelector\n",
    "\n",
    "multi = MultiAgent(\n",
    "    agents=[agent1, agent2],\n",
    "    selector=MaxTurnsSelector(max_turns=4)\n",
    ")\n",
    "```\n",
    "\n",
    "Useful when you want a controlled exchange between agents before finishing."
   ]
  },
  {
   "cell_type": "markdown",
   "id": "68543c44",
   "metadata": {},
   "source": [
    "---\n",
    "### Troubleshooting\n",
    "- ✅ **Only one agent replying?** → Check selector logic.\n",
    "- ✅ **Final text missing?** → Make sure one agent calls `is_final_response()` via a final event.\n",
    "- ✅ **Confused roles?** → Use `role_assignment` to label agents clearly."
   ]
  },
  {
   "cell_type": "markdown",
   "id": "c2638370",
   "metadata": {},
   "source": [
    "---\n",
    "### Summary\n",
    "- Use `MultiAgent()` when multiple agents are needed.\n",
    "- Add agents, selector, and (optional) role assignments.\n",
    "- All agents share the same `session` and `state`.\n",
    "- Works with Runner and Web UI just like single agents.\n",
    "\n",
    "> Next: Try this in `adk web .` and observe how agents take turns in the **Events** tab."
   ]
  }
 ],
 "metadata": {
  "kernelspec": {
   "display_name": "Python 3",
   "language": "python",
   "name": "python3"
  },
  "language_info": {
   "name": "python",
   "version": "3.11"
  }
 },
 "nbformat": 4,
 "nbformat_minor": 5
}
