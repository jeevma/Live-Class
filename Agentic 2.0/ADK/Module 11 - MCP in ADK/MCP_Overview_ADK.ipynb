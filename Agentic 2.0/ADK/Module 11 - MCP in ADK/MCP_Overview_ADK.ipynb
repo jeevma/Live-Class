{
 "cells": [
  {
   "cell_type": "markdown",
   "id": "bcf8f45c",
   "metadata": {},
   "source": [
    "# 🔌 Model Context Protocol (MCP) in ADK\n",
    "Model Context Protocol (MCP) is an open standard that allows LLMs to communicate with external tools, data, and services.\n",
    "ADK provides first-class support for both consuming and exposing MCP tools."
   ]
  },
  {
   "cell_type": "markdown",
   "id": "50d8b159",
   "metadata": {},
   "source": [
    "## 📊 Architecture Overview\n",
    "```mermaid\n",
    "flowchart LR\n",
    "    subgraph MCP_Server[External MCP Server]\n",
    "        Tools[🛠 Tools]\n",
    "        Resources[📁 Resources]\n",
    "        Templates[🧩 Templates]\n",
    "    end\n",
    "    ADK[ADK Agent MCP Client] --> Tools\n",
    "    ADK --> Resources\n",
    "    ADK --> Templates\n",
    "    \n",
    "    style ADK fill:#e1f5fe\n",
    "    style Tools fill:#e8f5e8\n",
    "    style Resources fill:#f3e5f5\n",
    "    style Templates fill:#fff3e0\n",
    "```"
   ]
  },
  {
   "cell_type": "markdown",
   "id": "4b0d71bc",
   "metadata": {},
   "source": [
    "## 📚 MCP Concepts\n",
    "1. **Resources** – structured data like schema\n",
    "2. **Templates** – prompt templates for LLMs\n",
    "3. **Tools** – executable functions like SQL runner, media gen"
   ]
  },
  {
   "cell_type": "markdown",
   "id": "c1bbb6b0",
   "metadata": {},
   "source": [
    "## ✅ Summary\n",
    "- MCP connects agents to external tools\n",
    "- FastMCP makes exposing tools easy\n",
    "- ADK can consume and expose MCP tools\n",
    "- Powerful for databases, media gen, or custom logic"
   ]
  }
 ],
 "metadata": {
  "kernelspec": {
   "display_name": ".venv (3.12.9)",
   "language": "python",
   "name": "python3"
  },
  "language_info": {
   "codemirror_mode": {
    "name": "ipython",
    "version": 3
   },
   "file_extension": ".py",
   "mimetype": "text/x-python",
   "name": "python",
   "nbconvert_exporter": "python",
   "pygments_lexer": "ipython3",
   "version": "3.12.9"
  }
 },
 "nbformat": 4,
 "nbformat_minor": 5
}
