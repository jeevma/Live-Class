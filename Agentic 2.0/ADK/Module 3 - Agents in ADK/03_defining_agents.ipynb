{
 "cells": [
  {
   "cell_type": "markdown",
   "id": "b4572504",
   "metadata": {},
   "source": [
    "#  Module 3: Defining Agents (LLM Agents)\n",
    "\n",
    "In this module, we’ll **define an agent** using ADK’s **LLM Agent** (often aliased as `Agent`). You’ll learn the required fields, optional controls, how to scaffold the app with the **CLI**, and how to run it locally.\n",
    "\n",
    "**What you’ll do**\n",
    "1. Understand the LLM Agent shape (\\*latest docs)\n",
    "2. Scaffold a project with `adk create`\n",
    "3. Inspect the **folder structure** created by ADK\n",
    "4. Implement a minimal `LlmAgent` in `agent.py`\n",
    "5. Run locally via **CLI** (`adk run`, `adk web`) and via **Runner** (Python)\n",
    "\n",
    "**References**: ADK Agents and LLM Agents (identity, instruction, tools, schemas), ADK CLI Reference (create/run/web/api_server), Built-in tools note, and Gemini key env vars. :contentReference[oaicite:0]{index=0}"
   ]
  },
  {
   "cell_type": "markdown",
   "id": "d2e2ed14",
   "metadata": {},
   "source": [
    "## 0) Concept: What is an LLM Agent?\n",
    "An **LLM Agent** (class: `LlmAgent`) is the \"thinking\" unit: it uses a model (e.g., `gemini-2.0-flash`) to reason, follow **instructions**, and optionally call **tools**. (It’s distinct from **Workflow Agents** which orchestrate fixed flows.) :contentReference[oaicite:1]{index=1}\n",
    "\n",
    "**Minimum you must define**:\n",
    "- `model`: LLM name (e.g., `gemini-2.0-flash`)\n",
    "- `name`: unique identifier for routing in multi-agent systems\n",
    "- (Recommended) `description`: short routing summary\n",
    "- `instruction`: how to behave (task, constraints, output format, when to use tools)\n",
    "- Optional: `tools`, `generate_content_config`, `input_schema`, `output_schema`, `output_key`, `include_contents`, `planner` (planning), `code execution` feature toggles. :contentReference[oaicite:2]{index=2}"
   ]
  },
  {
   "cell_type": "markdown",
   "id": "8d678427",
   "metadata": {},
   "source": [
    "## 1) Scaffold the app with the CLI\n",
    "Use the official `adk` CLI to **create** and **run** your agent locally. :contentReference[oaicite:3]{index=3}\n",
    "\n",
    "```bash\n",
    "# 1) Create a new ADK app from a template in the current folder\n",
    "adk create my_first_agent\n",
    "\n",
    "# 2) Run it in an interactive terminal UI (points at the agent folder)\n",
    "adk run my_first_agent\n",
    "\n",
    "# 3) Start the local web UI over a directory of agents (each subfolder is one agent)\n",
    "adk web .\n",
    "\n",
    "# 4) Alternative: start an API server (FastAPI) for agents\n",
    "adk api_server .\n",
    "```\n",
    "\n",
    "> **Tip**: `adk --version` / `adk --help` to verify install and list commands. :contentReference[oaicite:4]{index=4}"
   ]
  },
  {
   "cell_type": "markdown",
   "id": "f015434d",
   "metadata": {},
   "source": [
    "### What structure do I get?\n",
    "The CLI sets up a folder where **each agent** lives in its own subdirectory with **`__init__.py`** and **`agent.py`**. When you point `adk web` / `adk api_server` to a parent directory, ADK expects **each subfolder to be a single agent** with those files present. :contentReference[oaicite:5]{index=5}\n",
    "\n",
    "Example (illustrative):\n",
    "```\n",
    "my_first_agent/\n",
    "  __init__.py        # exposes a module named `agent`\n",
    "  agent.py           # defines the root LLM Agent instance\n",
    "  requirements.txt   # (optional) extra deps\n",
    "  .env               # (optional) GOOGLE_API_KEY / GEMINI_API_KEY\n",
    "```\n",
    "\n",
    "> Ensure your **Gemini API key** is exported as `GOOGLE_API_KEY` (preferred) or `GEMINI_API_KEY`. If both are set, `GOOGLE_API_KEY` wins. :contentReference[oaicite:6]{index=6}"
   ]
  },
  {
   "cell_type": "markdown",
   "id": "d26bef81",
   "metadata": {},
   "source": [
    "https://google.github.io/adk-docs/get-started/quickstart/#project-structure"
   ]
  },
  {
   "cell_type": "markdown",
   "id": "317a901b",
   "metadata": {},
   "source": [
    "## 2) Implement a minimal LLM Agent (in `agent.py`)\n",
    "Below is a compact example that:\n",
    "1) Defines a function **tool** (`get_capital_city`)  \n",
    "2) Creates an `LlmAgent` with **model**, **name**, **description**, **instruction**, and **tools**  \n",
    "3) Shows a **Runner** pattern to execute the agent locally in Python (alternative to `adk run`)\n",
    "\n",
    "*This aligns with the latest LLM Agent doc sections on identity, instruction, tools, and Runner usage.* :contentReference[oaicite:7]{index=7}"
   ]
  },
  {
   "cell_type": "code",
   "execution_count": null,
   "id": "0cc5c368",
   "metadata": {
    "tags": [
     "agent-demo"
    ]
   },
   "outputs": [],
   "source": [
    "# --- agent.py (example) ---\n",
    "from typing import Dict\n",
    "from google.adk.agents import LlmAgent\n",
    "from google.adk.runners import Runner\n",
    "from google.adk.sessions import InMemorySessionService\n",
    "from google.genai import types\n",
    "\n",
    "# 1) Define a simple function tool\n",
    "def get_capital_city(country: str) -> str:\n",
    "    \"\"\"Return the capital for a given country (toy lookup).\"\"\"\n",
    "    capitals = {\"france\": \"Paris\", \"japan\": \"Tokyo\", \"canada\": \"Ottawa\"}\n",
    "    return capitals.get(country.lower(), f\"Sorry, I don't know the capital of {country}.\")\n",
    "\n",
    "# 2) Define the LLM Agent (identity + behavior + tools)\n",
    "agent = LlmAgent(\n",
    "    model=\"gemini-2.0-flash\",              # choose your model\n",
    "    name=\"capital_agent\",                  # unique identifier\n",
    "    description=\"Answers questions about capital cities.\",\n",
    "    instruction=(\n",
    "        \"You provide country capitals.\\n\"\n",
    "        \"When asked for a capital, call get_capital_city(country).\\n\"\n",
    "        \"Respond concisely.\"\n",
    "    ),\n",
    "    tools=[get_capital_city],              # pass function directly\n",
    ")\n",
    "\n"
   ]
  },
  {
   "cell_type": "markdown",
   "id": "75dd271a",
   "metadata": {},
   "source": [
    "> **Why this shape?**\n",
    "- `model`, `name`, `description` → **identity & routing**\n",
    "- `instruction` → **behavior** (task, constraints, output format, guidance on tools)\n",
    "- `tools=[...]` → give the agent **capabilities** beyond the base LLM\n",
    "- You can also add: `generate_content_config` (temperature/tokens), `input_schema`/`output_schema` (structured IO), `output_key` (store result in session state), `include_contents`, or a `planner`. :contentReference[oaicite:8]{index=8}"
   ]
  },
  {
   "cell_type": "markdown",
   "id": "ad0127e2",
   "metadata": {},
   "source": [
    "## 3) Running your agent\n",
    "### A) CLI (recommended for demos)\n",
    "```bash\n",
    "adk run my_first_agent\n",
    "```\n",
    "Runs an interactive prompt for the agent in `my_first_agent/`. :contentReference[oaicite:9]{index=9}\n",
    "\n",
    "### B) Web UI\n",
    "```bash\n",
    "adk web .\n",
    "```\n",
    "Starts a local server with a web UI for any agent subfolders in the current directory. Each subfolder must contain `__init__.py` and `agent.py`. :contentReference[oaicite:10]{index=10}\n",
    "\n",
    "### C) Python Runner (programmatic)\n",
    "Use the `Runner` with an in-memory session service (see code above) to integrate the agent into scripts/tests. :contentReference[oaicite:11]{index=11}"
   ]
  }
 ],
 "metadata": {
  "kernelspec": {
   "display_name": "Python 3",
   "language": "python",
   "name": "python3"
  },
  "language_info": {
   "name": "python",
   "version": "3.11"
  }
 },
 "nbformat": 4,
 "nbformat_minor": 5
}
