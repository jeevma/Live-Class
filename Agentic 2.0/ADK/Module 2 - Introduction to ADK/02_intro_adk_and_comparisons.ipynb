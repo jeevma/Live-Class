{
 "cells": [
  {
   "cell_type": "markdown",
   "id": "22896e28",
   "metadata": {},
   "source": [
    "# Google ADK Crash Course · Module 2: Introduction to ADK & Comparisons\n",
    "\n",
    "In this module, you will:\n",
    "\n",
    "1. Understand what **Agent Development Kit (ADK)** is and why it exists.\n",
    "2. Learn the **core building blocks** (Agents, Tools, Workflows, Memory, Callbacks, Dev UI/CLI).\n",
    "3. See the **architecture & mental model** (root agent, sub-agents, delegation).\n",
    "4. Explore **workflow patterns** (sequential, parallel, loop).\n",
    "5. Compare ADK with **LangChain/LangGraph**, **CrewAI**, and **Microsoft AutoGen**.\n",
    "6. Note **strengths, limitations, and gotchas** so you can pick the right tool for the job.\n",
    "\n",
    "> This notebook is conceptual (heavy on explanations) with a few small code sanity checks and pattern snippets. Use it to teach or to orient your team before coding."
   ]
  },
  {
   "cell_type": "markdown",
   "id": "80fb0c9f",
   "metadata": {},
   "source": [
    "## What is ADK (Agent Development Kit)?\n",
    "\n",
    "**ADK** is a flexible, modular framework for building and deploying **AI agents**, optimized for **Gemini** but **model-agnostic** (you can also use GPT/Claude) and **deployment-agnostic** (local or cloud). It aims to make agent development feel like standard software engineering: clear configs, testable units, composable workflows, and an integrated developer experience (CLI + web UI).\n",
    "\n",
    "**Key ideas**:\n",
    "- **Agents** are self-contained execution units that pursue goals, call tools, and can coordinate with other agents.\n",
    "- **Tools** give agents capabilities (search, code execution, RAG, custom Python functions, third-party APIs).\n",
    "- **Workflows** orchestrate agents (e.g., run in sequence, in parallel, or iterate in loops).\n",
    "- **Memory/Session State** lets agents carry context across steps/sessions.\n",
    "- **Callbacks/Guardrails** hook into lifecycle stages for safety, logging, and control.\n",
    "- **Dev Experience** includes an `adk` CLI and an interactive web UI for local testing.\n",
    "\n",
    "We’ll dive deeper into each of these in the next sections and hands-on modules."
   ]
  },
  {
   "cell_type": "markdown",
   "id": "f4cc5400",
   "metadata": {},
   "source": [
    "## Core Concepts: Agents, Tools, Workflows, Memory, Callbacks\n",
    "\n",
    "### Agents\n",
    "- An **Agent** is a goal-driven unit that can reason, call tools, and produce outputs.\n",
    "- A **root agent** is your entry point. It can delegate work to **sub-agents** specialized for tasks (research, coding, analysis, etc.).\n",
    "- Multi-agent systems in ADK are built by composing multiple agents with defined responsibilities.\n",
    "\n",
    "### Tools\n",
    "- **Built-in tools** (e.g., Google Search, code executors, RAG) enable common capabilities out-of-the-box.\n",
    "- **Function tools** are custom Python functions you expose to agents.\n",
    "- **Third-party tools** or even **agents-as-tools** can be integrated for complex workloads.\n",
    "\n",
    "### Workflows\n",
    "- **Sequential**: sub-agents run in a fixed order (A → B → C).\n",
    "- **Parallel**: sub-agents run concurrently and aggregate results.\n",
    "- **Loop**: iterate until a condition or iteration budget is met (e.g., refine a draft until it passes checks).\n",
    "\n",
    "### Memory & Session State\n",
    "- Persist useful state across turns or app restarts (e.g., user profile, intermediate artifacts).\n",
    "\n",
    "### Callbacks / Guardrails\n",
    "- Hook into agent lifecycle (before/after tool calls, on error) to enforce constraints, redact data, or log decisions."
   ]
  },
  {
   "cell_type": "markdown",
   "id": "e1f76536",
   "metadata": {},
   "source": [
    "## Mental Model & Architecture (ASCII)\n",
    "\n",
    "```\n",
    "                    +---------------------+\n",
    "                    |       Client        |\n",
    "                    |  (UI, API, tests)  |\n",
    "                    +----------+----------+\n",
    "                               |\n",
    "                          (Request)\n",
    "                               v\n",
    "                        +-------------+\n",
    "                        |  RootAgent  |  <— entry point\n",
    "                        +------+------+     - routing/delegation\n",
    "                               |\n",
    "     +-------------------------+--------------------------+\n",
    "     v                                                    v\n",
    "+---------+      tools      +-----------+         +--------------+\n",
    "| Search  | <-------------- |  Research |         |   Analyzer   |\n",
    "|  Tool   |                 |  Agent    |         |   Agent      |\n",
    "+---------+                 +-----------+         +--------------+\n",
    "     |                            |                        |\n",
    "     |                            v                        v\n",
    "  (web)                      +----------+            +-----------+\n",
    "                             |  Memory  |            |  Tools    |\n",
    "                             +----------+            +-----------+\n",
    "\n",
    "Workflow agents:\n",
    "- SequentialAgent: Research → Analyzer → Reporter\n",
    "- ParallelAgent:   Analyzer(CPU) || Analyzer(GPU) || Analyzer(API)\n",
    "- LoopAgent:       Iterate(Analyze → Improve) until done\n",
    "```"
   ]
  },
  {
   "cell_type": "markdown",
   "id": "d626864d",
   "metadata": {},
   "source": [
    "## ADK vs Other Frameworks (Quick Comparison)\n",
    "\n",
    "| Feature / Concern | **ADK** | **LangChain / LangGraph** | **CrewAI** | **Microsoft AutoGen** |\n",
    "|---|---|---|---|---|\n",
    "| Core focus | Modular agents, tools, **workflows**; strong dev UX (CLI/UI) | General LLM app framework; **LangGraph** for durable, controllable agents | Role-based multi-agent \"crews\" + **Flows** for deterministic orchestration | Event-driven multi-agent conversations; humans/tools/LLMs in the loop |\n",
    "| Built-in tools | Google Search, code exec, RAG, etc. (Gemini-focused) | Many integrations via toolkits; now nudging toward LangGraph for agents | Rich agent roles/tools; expanding code-exec features | Agents, tools, human-in-the-loop; code agents; AutoGen Studio (UI) |\n",
    "| Models | Gemini-first, but **model-agnostic** (GPT/Claude supported) | Open, many providers; strong ecosystem | Open; supports multiple providers | Open; supports multiple providers |\n",
    "| Workflows | **Sequential, Parallel, Loop** agents first-class | Compose graphs with nodes/edges, retries, persistence | **Crews** (autonomy) & **Flows** (determinism) | Multi-agent chat, tools; custom routing patterns |\n",
    "| Dev tooling | `adk` CLI, local web UI; samples/codelabs | LangSmith/LangGraph Platform, tracing, eval | CLI + templates; community courses; quickstart | SDK + examples; AutoGen Studio research tool |\n",
    "| Productionization | Vertex AI alignment; local-to-cloud paths | LangGraph deploy, platform features | Python-first; community driven | Python-first; event-driven scaling |\n",
    "| Where it shines | Opinionated **agent workflows**, built-ins, DX | Huge ecosystem + graph control | Team-of-agents persona workflows | Conversational multi-agent protocols |\n",
    "| Watch-outs | Some built-ins are **Gemini-only** and may be **root-agent only** | Rapidly evolving APIs (LangGraph migration) | Autonomy can be harder to constrain | Conversation-centric design requires orchestration care |\n",
    "\n",
    "> Use this table to position your project. If you need first-class **workflow agents** and an integrated DX, ADK is a great starting point. If you want maximal ecosystem plugins or graph semantics, evaluate LangGraph. If you like persona teams, try CrewAI. If you want event-driven multi-agent chat protocols, try AutoGen."
   ]
  },
  {
   "cell_type": "markdown",
   "id": "17ceacc1",
   "metadata": {},
   "source": [
    "## Strengths, Limitations & Gotchas (ADK)\n",
    "\n",
    "**Strengths**\n",
    "- Clean separation of **agents, tools, and workflows**.\n",
    "- Built-in **Sequential/Parallel/Loop** workflow agents.\n",
    "- Solid **dev experience**: CLI, local web UI, samples, codelabs.\n",
    "- Works beyond Gemini (bring GPT/Claude), while keeping Gemini-first ergonomics.\n",
    "\n",
    "**Limitations / Gotchas**\n",
    "- Certain **built-in tools are Gemini-only**; plan non-Gemini fallbacks.\n",
    "- Some **built-in tools may not be callable from sub-agents**; design tool usage near the root if you hit errors.\n",
    "- An agent instance is typically added **once** as a sub-agent (clone if needed under different names).\n",
    "- As with other frameworks, **APIs evolve**. Keep an eye on release notes and `adk --help` output.\n",
    "\n",
    "We’ll show workarounds (e.g., wrapping capabilities as function tools) in later modules."
   ]
  },
  {
   "cell_type": "markdown",
   "id": "46aa25ee",
   "metadata": {},
   "source": [
    "## When to Choose Which Framework?\n",
    "\n",
    "- **Choose ADK** when you want:\n",
    "  - First-class **workflow agents** (sequential/parallel/loop) and a cohesive DX.\n",
    "  - Strong Gemini integration but flexibility to use non-Gemini models.\n",
    "  - A clean separation between agents, tools, and orchestration.\n",
    "\n",
    "- **Choose LangChain/LangGraph** when you want:\n",
    "  - Maximum ecosystem integrations and **graph semantics** (stateful nodes, retries, persistence).\n",
    "  - LangSmith tracing/evals and platform deployment options.\n",
    "\n",
    "- **Choose CrewAI** when you want:\n",
    "  - Persona-driven **crews** collaborating autonomously, or **Flows** for deterministic control.\n",
    "\n",
    "- **Choose AutoGen** when you want:\n",
    "  - Event-driven **multi-agent conversations** (agents + humans + tools) as the primary abstraction.\n",
    "\n",
    "You can also **mix and match**: wrap an ADK agent as a function/tool inside another framework, or vice versa, if a particular capability is missing."
   ]
  }
 ],
 "metadata": {
  "kernelspec": {
   "display_name": "Python 3",
   "language": "python",
   "name": "python3"
  },
  "language_info": {
   "name": "python",
   "version": "3.11"
  }
 },
 "nbformat": 4,
 "nbformat_minor": 5
}
